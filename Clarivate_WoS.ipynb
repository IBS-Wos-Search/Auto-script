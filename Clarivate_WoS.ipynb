{
  "nbformat": 4,
  "nbformat_minor": 0,
  "metadata": {
    "colab": {
      "provenance": [],
      "include_colab_link": true
    },
    "kernelspec": {
      "name": "python3",
      "display_name": "Python 3"
    },
    "language_info": {
      "name": "python"
    }
  },
  "cells": [
    {
      "cell_type": "markdown",
      "metadata": {
        "id": "view-in-github",
        "colab_type": "text"
      },
      "source": [
        "<a href=\"https://colab.research.google.com/github/IBS-Wos-Search/Auto-script/blob/main/Clarivate_WoS.ipynb\" target=\"_parent\"><img src=\"https://colab.research.google.com/assets/colab-badge.svg\" alt=\"Open In Colab\"/></a>"
      ]
    },
    {
      "cell_type": "code",
      "source": [
        "!pip install rispy"
      ],
      "metadata": {
        "colab": {
          "base_uri": "https://localhost:8080/"
        },
        "id": "Qhxf-ahmkcpb",
        "outputId": "22e51370-7870-4bb2-8b0d-f6e50ec271a3"
      },
      "execution_count": null,
      "outputs": [
        {
          "output_type": "stream",
          "name": "stdout",
          "text": [
            "Looking in indexes: https://pypi.org/simple, https://us-python.pkg.dev/colab-wheels/public/simple/\n",
            "Collecting rispy\n",
            "  Downloading rispy-0.7.1-py3-none-any.whl (15 kB)\n",
            "Installing collected packages: rispy\n",
            "Successfully installed rispy-0.7.1\n"
          ]
        }
      ]
    },
    {
      "cell_type": "code",
      "metadata": {
        "id": "jklGXQ9kc5WG"
      },
      "source": [
        "import requests\n",
        "import json\n",
        "import time\n",
        "import re\n",
        "import csv\n",
        "import rispy"
      ],
      "execution_count": null,
      "outputs": []
    },
    {
      "cell_type": "markdown",
      "metadata": {
        "id": "ALd9zl73FTc3"
      },
      "source": [
        "Get the author list"
      ]
    },
    {
      "cell_type": "code",
      "metadata": {
        "colab": {
          "base_uri": "https://localhost:8080/"
        },
        "id": "eMDCSYLxTvNl",
        "outputId": "ebd3fe78-5e92-4d54-d065-5f69d95147ca"
      },
      "source": [
        "authors_url = 'https://gist.githubusercontent.com/ibshelp/1c078ff8692574ba0e5665b7372c973f/raw/c4d04643b246a0802003bde1e22f5df5679c6de8/IBS%2520Researchers'\n",
        "\n",
        "author_list = requests.get(authors_url).text.split('\\n')\n",
        "print(f'First record: {author_list[0]}\\nLast record: {author_list[-1]}')"
      ],
      "execution_count": null,
      "outputs": [
        {
          "output_type": "stream",
          "name": "stdout",
          "text": [
            "First record: Andersson, Krister\n",
            "Last record: Yeatman, Sara\n"
          ]
        }
      ]
    },
    {
      "cell_type": "markdown",
      "source": [
        "Go get the API definition"
      ],
      "metadata": {
        "id": "y_WnKwD1Lwhr"
      }
    },
    {
      "cell_type": "code",
      "metadata": {
        "id": "Ilyh1W1pdCJg"
      },
      "source": [
        "base_url = 'https://wos-api.clarivate.com/api/woslite'\n",
        "#base_url = 'https://wos-api.clarivate.com/api/wos'\n",
        "api_key = '98c6817fc891c194dce9ed0170cddf259d092a87'\n",
        "api_user = 'b681ff0ecd9c154da0dc8e22f9cae39d6ffb4409'\n",
        "\n",
        "result = requests.get(f'{base_url}/swagger?forUser={api_user}').json()\n",
        "\n",
        "with open('swagger_def.txt', 'w') as file:\n",
        "    file.write(json.dumps(result, indent=2))"
      ],
      "execution_count": null,
      "outputs": []
    },
    {
      "cell_type": "markdown",
      "source": [
        "Do a search using the specification on line 18 in the WOSLite database and dump \n",
        "the results to test.txt for debugging."
      ],
      "metadata": {
        "id": "maIRfzjYNAlG"
      }
    },
    {
      "cell_type": "code",
      "metadata": {
        "colab": {
          "base_uri": "https://localhost:8080/"
        },
        "outputId": "a2d22cec-9c7f-474d-8cf3-8adbd8465efd",
        "id": "dayJWOVZZKo5"
      },
      "source": [
        "# Andy Baker\n",
        "# symbolicTimeSpan= '1week', '2week', '4week'\n",
        "# TimeSpan\n",
        "\n",
        "headers = {\n",
        "    \"X-ApiKey\": api_key\n",
        "}\n",
        "\n",
        "query = {\n",
        "    \"databaseId\": \"WOS\",\n",
        "    \"count\": 100,\n",
        "    \"firstRecord\": 1,\n",
        "    \"usrQuery\": \"\",\n",
        "    \"sortField\": \"\",\n",
        "    \"symbolicTimeSpan\": \"\"\n",
        "}\n",
        "\n",
        "query['usrQuery'] = 'TS=((\"latin america\" OR \"Brazil\" OR \"Mexico\" OR \"Chile\" OR \"Argentina\" OR \"Uruguay\" OR \"Peru\" OR \"Colombia\" OR \"Bolivia\") AND (“labor” OR “labour” OR \"welfare\" OR \"social policy\" OR \"government expenditure*\" OR \"health policy\" OR \"anti-poverty\" OR \"antipoverty\" OR \"transfer*\" OR \"health sector\" OR \"pension*\") NOT (\"mental health\")) AND LA=(\"English\" OR \"Portuguese\" OR \"Spanish\")'\n",
        "query['symbolicTimeSpan'] = '4week'\n",
        "\n",
        "result = requests.get(f'{base_url}/', headers=headers, params=query).json()\n",
        "\n",
        "print(f\"Found {result['QueryResult']['RecordsFound']} result(s)\")\n",
        "\n",
        "with open('test.txt', 'w') as file:\n",
        "    file.write(json.dumps(result, indent=2))"
      ],
      "execution_count": null,
      "outputs": [
        {
          "output_type": "stream",
          "name": "stdout",
          "text": [
            "Found 33200 result(s)\n"
          ]
        }
      ]
    },
    {
      "cell_type": "markdown",
      "source": [
        "Convert the result to RIS format for output and write to test.ris"
      ],
      "metadata": {
        "id": "LRAwuad1NJ1E"
      }
    },
    {
      "cell_type": "code",
      "source": [
        "# https://github.com/MrTango/rispy\n",
        "\n",
        "entries = []\n",
        "for record in result['Data']:\n",
        "    cleaned_record = {\n",
        "        'primary_title': record.get('Title', {}).get('Title')[0],\n",
        "        'authors': record.get('Author', {}).get('Authors'),\n",
        "        'publication_year': record.get('Source', {}).get('Published.BiblioYear')[0],\n",
        "        'keywords': record.get('Keyword', {}).get('Keywords', []),\n",
        "        'accession_number': record.get('UT'),\n",
        "        'secondary_title': record.get('Source', {}).get('SourceTitle')[0],\n",
        "    }\n",
        "\n",
        "    reference_type = record.get('Doctype', {}).get('Doctype')[0]\n",
        "    if reference_type == \"Article\":\n",
        "        cleaned_record['type_of_reference'] = \"EJOUR\"\n",
        "    else:\n",
        "        ris_type = [k for k, v in rispy.TYPE_OF_REFERENCE_MAPPING.items() if v == reference_type]\n",
        "        if ris_type == []:\n",
        "            cleaned_record['type_of_reference'] = \"GEN\"\n",
        "        else:\n",
        "            cleaned_record['type_of_reference'] = ris_type[0]\n",
        "\n",
        "\n",
        "    doi = record.get('Other', {}).get('Identifier.Doi')\n",
        "    if doi:\n",
        "        cleaned_record['doi'] = doi[0]\n",
        "\n",
        "    issn = record.get('Other', {}).get('Identifier.Issn')\n",
        "    if issn:\n",
        "        cleaned_record['issn'] = issn[0]\n",
        "\n",
        "    pages = record.get('Source', {}).get('Pages')\n",
        "    if pages and pages[0] != \"\":\n",
        "        cleaned_record['start_page'] = pages[0].split('-')[0]\n",
        "        cleaned_record['end_page'] = pages[-1].split('-')[-1]\n",
        "    \n",
        "    issue_number = record.get('Source', {}).get('Issue')\n",
        "    if issue_number:\n",
        "        cleaned_record['number'] = issue_number[0]\n",
        "\n",
        "    volume = record.get('Source', {}).get('Volume')\n",
        "    if volume:\n",
        "        cleaned_record['volume'] = volume[0]\n",
        "    \n",
        "    date = record.get('Source', {}).get('Published.BiblioDate')\n",
        "    if date and '-' not in date[0]:\n",
        "        months = {\n",
        "            'JAN': '01',\n",
        "            'FEB': '02',\n",
        "            'MAR': '03',\n",
        "            'APR': '04',\n",
        "            'MAY': '05',\n",
        "            'JUN': '06',\n",
        "            'JUL': '07',\n",
        "            'AUG': '08',\n",
        "            'SEP': '09',\n",
        "            'OCT': '10',\n",
        "            'NOV': '11',\n",
        "            'DEC': '12'\n",
        "        }\n",
        "        year = cleaned_record.get('publication_year')\n",
        "        date_field = date[0].split(' ')\n",
        "        month = months.get(date_field[0].upper(), \"\")\n",
        "        day = \"\" if len(date_field) == 1 else date_field[1]\n",
        "        date_string = f\"{year}/{month}/{day}/undefined\"\n",
        "        \n",
        "        cleaned_record['date'] = date_string\n",
        "\n",
        "    entries.append(cleaned_record)\n",
        "\n",
        "with open('test.ris', 'w') as file:\n",
        "    rispy.dump(entries, file)"
      ],
      "metadata": {
        "id": "KuCcQHjwkpSu"
      },
      "execution_count": null,
      "outputs": []
    },
    {
      "cell_type": "markdown",
      "source": [
        "**Below this is old code that shouldn't be run!![Untitled.png](data:image/png;base64,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)**"
      ],
      "metadata": {
        "id": "I4X-vCrQNhxi"
      }
    },
    {
      "cell_type": "code",
      "metadata": {
        "id": "nYnjMEkIeNSB",
        "colab": {
          "base_uri": "https://localhost:8080/",
          "height": 130
        },
        "outputId": "040479fc-1d65-4bc9-ad6b-51036668e60d"
      },
      "source": [
        "(headers = {\n",
        "    \"X-ApiKey\": api_key\n",
        "}\n",
        "\n",
        "query = {\n",
        "    \"databaseId\": \"WOS\",\n",
        "    \"count\": 100,\n",
        "    \"firstRecord\": 1,\n",
        "    \"usrQuery\": \"\",\n",
        "    \"sortField\": \"\"\n",
        "}\n",
        "\n",
        "query['usrQuery'] = 'RI=K-6682-2012'\n",
        "result = requests.get(f'{base_url}/', headers=headers, params=query).json()\n",
        "print(json.dumps(result, indent=2))\n",
        "\n",
        "print(f\"Found {result['QueryResult']['RecordsFound']} result(s)\")\n",
        "\n",
        "lowest_year = 2021\n",
        "for pub in result['Data']:\n",
        "    if 'Published.BiblioYear' in pub['Source'] and int(pub['Source']['Published.BiblioYear'][0]) < lowest_year:\n",
        "        lowest_year = int(pub['Source']['Published.BiblioYear'][0])\n",
        "\n",
        "print(f'Earliest Publication from {lowest_year}')\n",
        "\n",
        "with open('test.txt', 'w') as file:\n",
        "    file.write(json.dumps(result, indent=2))"
      ],
      "execution_count": null,
      "outputs": [
        {
          "output_type": "error",
          "ename": "SyntaxError",
          "evalue": "ignored",
          "traceback": [
            "\u001b[0;36m  File \u001b[0;32m\"<ipython-input-7-8907716f9c4b>\"\u001b[0;36m, line \u001b[0;32m1\u001b[0m\n\u001b[0;31m    (headers = {\u001b[0m\n\u001b[0m             ^\u001b[0m\n\u001b[0;31mSyntaxError\u001b[0m\u001b[0;31m:\u001b[0m invalid syntax\n"
          ]
        }
      ]
    },
    {
      "cell_type": "code",
      "metadata": {
        "colab": {
          "base_uri": "https://localhost:8080/",
          "height": 727
        },
        "id": "S29RCBSRF-Gf",
        "outputId": "09357c03-a953-4e8c-83e5-7caecb0e71ad"
      },
      "source": [
        "author_id_regex = re.compile(r'[A-Z]\\-[0-9]{4}\\-[0-9]{4}')\n",
        "\n",
        "headers = {\n",
        "    \"X-ApiKey\": api_key\n",
        "}\n",
        "\n",
        "query = {\n",
        "    \"databaseId\": \"WOS\",\n",
        "    \"count\": 100,\n",
        "    \"firstRecord\": 1,\n",
        "    \"usrQuery\": \"\",\n",
        "    \"sortField\": \"\"\n",
        "}\n",
        "results_list = []\n",
        "missed_authors = []\n",
        "\n",
        "for author in author_list:\n",
        "    time.sleep(.25)\n",
        "    author_name = author.strip()\n",
        "    if author_id_regex.match(author_name):\n",
        "        query['usrQuery'] = f'RI={author_name}'\n",
        "    else:\n",
        "        query['usrQuery'] = f'AU={author_name}'\n",
        "    result = requests.get(f'{base_url}/', headers=headers, params=query).json()\n",
        "    if 'Data' in result and result['Data']:\n",
        "        print(f\"Found {result['QueryResult']['RecordsFound']} result(s) for {author.strip()}\")\n",
        "        results_list.extend(result['Data'])\n",
        "    else:\n",
        "        missed_authors.append(author_name)\n",
        "\n",
        "print(f'{len(results_list)} records returned')\n",
        "\n",
        "with open('results.txt', 'w') as file:\n",
        "    file.write(json.dumps(results_list, indent=2))\n",
        "\n",
        "with open('still missed.txt', 'w') as file:\n",
        "    file.write('\\n'.join(missed_authors))"
      ],
      "execution_count": null,
      "outputs": [
        {
          "output_type": "stream",
          "name": "stdout",
          "text": [
            "Found 65 result(s) for Andersson, Krister\n",
            "Found 15 result(s) for Atteberry, Allison\n",
            "Found 10 result(s) for Barham, Tania\n",
            "Found 30 result(s) for Bearce, David\n",
            "Found 33 result(s) for Belknap, Joanne\n",
            "Found 78 result(s) for Bernstein, Robin\n",
            "Found 3 result(s) for Blechman, Elaine\n",
            "Found 101 result(s) for Boardman, Jason D.\n",
            "Found 27 result(s) for Boulding, Carew\n",
            "Found 4 result(s) for Boulding, Elise\n",
            "Found 31 result(s) for Boulding, Kenneth E\n",
            "Found 22 result(s) for Bourne, Lyle E. Jr.\n",
            "Found 1 result(s) for Bramsen, John\n",
            "Found 35 result(s) for Brenkert-Smith, Hannah\n",
            "Found 287 result(s) for Bryan, Angela\n",
            "Found 14 result(s) for Buckley, Pamela\n",
            "Found 11 result(s) for Cadena, Brian\n",
            "Found 3 result(s) for Costa, Frances\n",
            "Found 13 result(s) for Cronshaw, Mark\n",
            "Found 194 result(s) for Davis, Keith\n"
          ]
        },
        {
          "output_type": "error",
          "ename": "KeyboardInterrupt",
          "evalue": "ignored",
          "traceback": [
            "\u001b[0;31m---------------------------------------------------------------------------\u001b[0m",
            "\u001b[0;31mKeyboardInterrupt\u001b[0m                         Traceback (most recent call last)",
            "\u001b[0;32m<ipython-input-5-032fe5e2549b>\u001b[0m in \u001b[0;36m<module>\u001b[0;34m\u001b[0m\n\u001b[1;32m     22\u001b[0m     \u001b[0;32melse\u001b[0m\u001b[0;34m:\u001b[0m\u001b[0;34m\u001b[0m\u001b[0;34m\u001b[0m\u001b[0m\n\u001b[1;32m     23\u001b[0m         \u001b[0mquery\u001b[0m\u001b[0;34m[\u001b[0m\u001b[0;34m'usrQuery'\u001b[0m\u001b[0;34m]\u001b[0m \u001b[0;34m=\u001b[0m \u001b[0;34mf'AU={author_name}'\u001b[0m\u001b[0;34m\u001b[0m\u001b[0;34m\u001b[0m\u001b[0m\n\u001b[0;32m---> 24\u001b[0;31m     \u001b[0mresult\u001b[0m \u001b[0;34m=\u001b[0m \u001b[0mrequests\u001b[0m\u001b[0;34m.\u001b[0m\u001b[0mget\u001b[0m\u001b[0;34m(\u001b[0m\u001b[0;34mf'{base_url}/'\u001b[0m\u001b[0;34m,\u001b[0m \u001b[0mheaders\u001b[0m\u001b[0;34m=\u001b[0m\u001b[0mheaders\u001b[0m\u001b[0;34m,\u001b[0m \u001b[0mparams\u001b[0m\u001b[0;34m=\u001b[0m\u001b[0mquery\u001b[0m\u001b[0;34m)\u001b[0m\u001b[0;34m.\u001b[0m\u001b[0mjson\u001b[0m\u001b[0;34m(\u001b[0m\u001b[0;34m)\u001b[0m\u001b[0;34m\u001b[0m\u001b[0;34m\u001b[0m\u001b[0m\n\u001b[0m\u001b[1;32m     25\u001b[0m     \u001b[0;32mif\u001b[0m \u001b[0;34m'Data'\u001b[0m \u001b[0;32min\u001b[0m \u001b[0mresult\u001b[0m \u001b[0;32mand\u001b[0m \u001b[0mresult\u001b[0m\u001b[0;34m[\u001b[0m\u001b[0;34m'Data'\u001b[0m\u001b[0;34m]\u001b[0m\u001b[0;34m:\u001b[0m\u001b[0;34m\u001b[0m\u001b[0;34m\u001b[0m\u001b[0m\n\u001b[1;32m     26\u001b[0m         \u001b[0mprint\u001b[0m\u001b[0;34m(\u001b[0m\u001b[0;34mf\"Found {result['QueryResult']['RecordsFound']} result(s) for {author.strip()}\"\u001b[0m\u001b[0;34m)\u001b[0m\u001b[0;34m\u001b[0m\u001b[0;34m\u001b[0m\u001b[0m\n",
            "\u001b[0;32m/usr/local/lib/python3.7/dist-packages/requests/api.py\u001b[0m in \u001b[0;36mget\u001b[0;34m(url, params, **kwargs)\u001b[0m\n\u001b[1;32m     74\u001b[0m \u001b[0;34m\u001b[0m\u001b[0m\n\u001b[1;32m     75\u001b[0m     \u001b[0mkwargs\u001b[0m\u001b[0;34m.\u001b[0m\u001b[0msetdefault\u001b[0m\u001b[0;34m(\u001b[0m\u001b[0;34m'allow_redirects'\u001b[0m\u001b[0;34m,\u001b[0m \u001b[0;32mTrue\u001b[0m\u001b[0;34m)\u001b[0m\u001b[0;34m\u001b[0m\u001b[0;34m\u001b[0m\u001b[0m\n\u001b[0;32m---> 76\u001b[0;31m     \u001b[0;32mreturn\u001b[0m \u001b[0mrequest\u001b[0m\u001b[0;34m(\u001b[0m\u001b[0;34m'get'\u001b[0m\u001b[0;34m,\u001b[0m \u001b[0murl\u001b[0m\u001b[0;34m,\u001b[0m \u001b[0mparams\u001b[0m\u001b[0;34m=\u001b[0m\u001b[0mparams\u001b[0m\u001b[0;34m,\u001b[0m \u001b[0;34m**\u001b[0m\u001b[0mkwargs\u001b[0m\u001b[0;34m)\u001b[0m\u001b[0;34m\u001b[0m\u001b[0;34m\u001b[0m\u001b[0m\n\u001b[0m\u001b[1;32m     77\u001b[0m \u001b[0;34m\u001b[0m\u001b[0m\n\u001b[1;32m     78\u001b[0m \u001b[0;34m\u001b[0m\u001b[0m\n",
            "\u001b[0;32m/usr/local/lib/python3.7/dist-packages/requests/api.py\u001b[0m in \u001b[0;36mrequest\u001b[0;34m(method, url, **kwargs)\u001b[0m\n\u001b[1;32m     59\u001b[0m     \u001b[0;31m# cases, and look like a memory leak in others.\u001b[0m\u001b[0;34m\u001b[0m\u001b[0;34m\u001b[0m\u001b[0;34m\u001b[0m\u001b[0m\n\u001b[1;32m     60\u001b[0m     \u001b[0;32mwith\u001b[0m \u001b[0msessions\u001b[0m\u001b[0;34m.\u001b[0m\u001b[0mSession\u001b[0m\u001b[0;34m(\u001b[0m\u001b[0;34m)\u001b[0m \u001b[0;32mas\u001b[0m \u001b[0msession\u001b[0m\u001b[0;34m:\u001b[0m\u001b[0;34m\u001b[0m\u001b[0;34m\u001b[0m\u001b[0m\n\u001b[0;32m---> 61\u001b[0;31m         \u001b[0;32mreturn\u001b[0m \u001b[0msession\u001b[0m\u001b[0;34m.\u001b[0m\u001b[0mrequest\u001b[0m\u001b[0;34m(\u001b[0m\u001b[0mmethod\u001b[0m\u001b[0;34m=\u001b[0m\u001b[0mmethod\u001b[0m\u001b[0;34m,\u001b[0m \u001b[0murl\u001b[0m\u001b[0;34m=\u001b[0m\u001b[0murl\u001b[0m\u001b[0;34m,\u001b[0m \u001b[0;34m**\u001b[0m\u001b[0mkwargs\u001b[0m\u001b[0;34m)\u001b[0m\u001b[0;34m\u001b[0m\u001b[0;34m\u001b[0m\u001b[0m\n\u001b[0m\u001b[1;32m     62\u001b[0m \u001b[0;34m\u001b[0m\u001b[0m\n\u001b[1;32m     63\u001b[0m \u001b[0;34m\u001b[0m\u001b[0m\n",
            "\u001b[0;32m/usr/local/lib/python3.7/dist-packages/requests/sessions.py\u001b[0m in \u001b[0;36mrequest\u001b[0;34m(self, method, url, params, data, headers, cookies, files, auth, timeout, allow_redirects, proxies, hooks, stream, verify, cert, json)\u001b[0m\n\u001b[1;32m    528\u001b[0m         }\n\u001b[1;32m    529\u001b[0m         \u001b[0msend_kwargs\u001b[0m\u001b[0;34m.\u001b[0m\u001b[0mupdate\u001b[0m\u001b[0;34m(\u001b[0m\u001b[0msettings\u001b[0m\u001b[0;34m)\u001b[0m\u001b[0;34m\u001b[0m\u001b[0;34m\u001b[0m\u001b[0m\n\u001b[0;32m--> 530\u001b[0;31m         \u001b[0mresp\u001b[0m \u001b[0;34m=\u001b[0m \u001b[0mself\u001b[0m\u001b[0;34m.\u001b[0m\u001b[0msend\u001b[0m\u001b[0;34m(\u001b[0m\u001b[0mprep\u001b[0m\u001b[0;34m,\u001b[0m \u001b[0;34m**\u001b[0m\u001b[0msend_kwargs\u001b[0m\u001b[0;34m)\u001b[0m\u001b[0;34m\u001b[0m\u001b[0;34m\u001b[0m\u001b[0m\n\u001b[0m\u001b[1;32m    531\u001b[0m \u001b[0;34m\u001b[0m\u001b[0m\n\u001b[1;32m    532\u001b[0m         \u001b[0;32mreturn\u001b[0m \u001b[0mresp\u001b[0m\u001b[0;34m\u001b[0m\u001b[0;34m\u001b[0m\u001b[0m\n",
            "\u001b[0;32m/usr/local/lib/python3.7/dist-packages/requests/sessions.py\u001b[0m in \u001b[0;36msend\u001b[0;34m(self, request, **kwargs)\u001b[0m\n\u001b[1;32m    641\u001b[0m \u001b[0;34m\u001b[0m\u001b[0m\n\u001b[1;32m    642\u001b[0m         \u001b[0;31m# Send the request\u001b[0m\u001b[0;34m\u001b[0m\u001b[0;34m\u001b[0m\u001b[0;34m\u001b[0m\u001b[0m\n\u001b[0;32m--> 643\u001b[0;31m         \u001b[0mr\u001b[0m \u001b[0;34m=\u001b[0m \u001b[0madapter\u001b[0m\u001b[0;34m.\u001b[0m\u001b[0msend\u001b[0m\u001b[0;34m(\u001b[0m\u001b[0mrequest\u001b[0m\u001b[0;34m,\u001b[0m \u001b[0;34m**\u001b[0m\u001b[0mkwargs\u001b[0m\u001b[0;34m)\u001b[0m\u001b[0;34m\u001b[0m\u001b[0;34m\u001b[0m\u001b[0m\n\u001b[0m\u001b[1;32m    644\u001b[0m \u001b[0;34m\u001b[0m\u001b[0m\n\u001b[1;32m    645\u001b[0m         \u001b[0;31m# Total elapsed time of the request (approximately)\u001b[0m\u001b[0;34m\u001b[0m\u001b[0;34m\u001b[0m\u001b[0;34m\u001b[0m\u001b[0m\n",
            "\u001b[0;32m/usr/local/lib/python3.7/dist-packages/requests/adapters.py\u001b[0m in \u001b[0;36msend\u001b[0;34m(self, request, stream, timeout, verify, cert, proxies)\u001b[0m\n\u001b[1;32m    447\u001b[0m                     \u001b[0mdecode_content\u001b[0m\u001b[0;34m=\u001b[0m\u001b[0;32mFalse\u001b[0m\u001b[0;34m,\u001b[0m\u001b[0;34m\u001b[0m\u001b[0;34m\u001b[0m\u001b[0m\n\u001b[1;32m    448\u001b[0m                     \u001b[0mretries\u001b[0m\u001b[0;34m=\u001b[0m\u001b[0mself\u001b[0m\u001b[0;34m.\u001b[0m\u001b[0mmax_retries\u001b[0m\u001b[0;34m,\u001b[0m\u001b[0;34m\u001b[0m\u001b[0;34m\u001b[0m\u001b[0m\n\u001b[0;32m--> 449\u001b[0;31m                     \u001b[0mtimeout\u001b[0m\u001b[0;34m=\u001b[0m\u001b[0mtimeout\u001b[0m\u001b[0;34m\u001b[0m\u001b[0;34m\u001b[0m\u001b[0m\n\u001b[0m\u001b[1;32m    450\u001b[0m                 )\n\u001b[1;32m    451\u001b[0m \u001b[0;34m\u001b[0m\u001b[0m\n",
            "\u001b[0;32m/usr/local/lib/python3.7/dist-packages/urllib3/connectionpool.py\u001b[0m in \u001b[0;36murlopen\u001b[0;34m(self, method, url, body, headers, retries, redirect, assert_same_host, timeout, pool_timeout, release_conn, chunked, body_pos, **response_kw)\u001b[0m\n\u001b[1;32m    598\u001b[0m                                                   \u001b[0mtimeout\u001b[0m\u001b[0;34m=\u001b[0m\u001b[0mtimeout_obj\u001b[0m\u001b[0;34m,\u001b[0m\u001b[0;34m\u001b[0m\u001b[0;34m\u001b[0m\u001b[0m\n\u001b[1;32m    599\u001b[0m                                                   \u001b[0mbody\u001b[0m\u001b[0;34m=\u001b[0m\u001b[0mbody\u001b[0m\u001b[0;34m,\u001b[0m \u001b[0mheaders\u001b[0m\u001b[0;34m=\u001b[0m\u001b[0mheaders\u001b[0m\u001b[0;34m,\u001b[0m\u001b[0;34m\u001b[0m\u001b[0;34m\u001b[0m\u001b[0m\n\u001b[0;32m--> 600\u001b[0;31m                                                   chunked=chunked)\n\u001b[0m\u001b[1;32m    601\u001b[0m \u001b[0;34m\u001b[0m\u001b[0m\n\u001b[1;32m    602\u001b[0m             \u001b[0;31m# If we're going to release the connection in ``finally:``, then\u001b[0m\u001b[0;34m\u001b[0m\u001b[0;34m\u001b[0m\u001b[0;34m\u001b[0m\u001b[0m\n",
            "\u001b[0;32m/usr/local/lib/python3.7/dist-packages/urllib3/connectionpool.py\u001b[0m in \u001b[0;36m_make_request\u001b[0;34m(self, conn, method, url, timeout, chunked, **httplib_request_kw)\u001b[0m\n\u001b[1;32m    341\u001b[0m         \u001b[0;31m# Trigger any extra validation we need to do.\u001b[0m\u001b[0;34m\u001b[0m\u001b[0;34m\u001b[0m\u001b[0;34m\u001b[0m\u001b[0m\n\u001b[1;32m    342\u001b[0m         \u001b[0;32mtry\u001b[0m\u001b[0;34m:\u001b[0m\u001b[0;34m\u001b[0m\u001b[0;34m\u001b[0m\u001b[0m\n\u001b[0;32m--> 343\u001b[0;31m             \u001b[0mself\u001b[0m\u001b[0;34m.\u001b[0m\u001b[0m_validate_conn\u001b[0m\u001b[0;34m(\u001b[0m\u001b[0mconn\u001b[0m\u001b[0;34m)\u001b[0m\u001b[0;34m\u001b[0m\u001b[0;34m\u001b[0m\u001b[0m\n\u001b[0m\u001b[1;32m    344\u001b[0m         \u001b[0;32mexcept\u001b[0m \u001b[0;34m(\u001b[0m\u001b[0mSocketTimeout\u001b[0m\u001b[0;34m,\u001b[0m \u001b[0mBaseSSLError\u001b[0m\u001b[0;34m)\u001b[0m \u001b[0;32mas\u001b[0m \u001b[0me\u001b[0m\u001b[0;34m:\u001b[0m\u001b[0;34m\u001b[0m\u001b[0;34m\u001b[0m\u001b[0m\n\u001b[1;32m    345\u001b[0m             \u001b[0;31m# Py2 raises this as a BaseSSLError, Py3 raises it as socket timeout.\u001b[0m\u001b[0;34m\u001b[0m\u001b[0;34m\u001b[0m\u001b[0;34m\u001b[0m\u001b[0m\n",
            "\u001b[0;32m/usr/local/lib/python3.7/dist-packages/urllib3/connectionpool.py\u001b[0m in \u001b[0;36m_validate_conn\u001b[0;34m(self, conn)\u001b[0m\n\u001b[1;32m    837\u001b[0m         \u001b[0;31m# Force connect early to allow us to validate the connection.\u001b[0m\u001b[0;34m\u001b[0m\u001b[0;34m\u001b[0m\u001b[0;34m\u001b[0m\u001b[0m\n\u001b[1;32m    838\u001b[0m         \u001b[0;32mif\u001b[0m \u001b[0;32mnot\u001b[0m \u001b[0mgetattr\u001b[0m\u001b[0;34m(\u001b[0m\u001b[0mconn\u001b[0m\u001b[0;34m,\u001b[0m \u001b[0;34m'sock'\u001b[0m\u001b[0;34m,\u001b[0m \u001b[0;32mNone\u001b[0m\u001b[0;34m)\u001b[0m\u001b[0;34m:\u001b[0m  \u001b[0;31m# AppEngine might not have  `.sock`\u001b[0m\u001b[0;34m\u001b[0m\u001b[0;34m\u001b[0m\u001b[0m\n\u001b[0;32m--> 839\u001b[0;31m             \u001b[0mconn\u001b[0m\u001b[0;34m.\u001b[0m\u001b[0mconnect\u001b[0m\u001b[0;34m(\u001b[0m\u001b[0;34m)\u001b[0m\u001b[0;34m\u001b[0m\u001b[0;34m\u001b[0m\u001b[0m\n\u001b[0m\u001b[1;32m    840\u001b[0m \u001b[0;34m\u001b[0m\u001b[0m\n\u001b[1;32m    841\u001b[0m         \u001b[0;32mif\u001b[0m \u001b[0;32mnot\u001b[0m \u001b[0mconn\u001b[0m\u001b[0;34m.\u001b[0m\u001b[0mis_verified\u001b[0m\u001b[0;34m:\u001b[0m\u001b[0;34m\u001b[0m\u001b[0;34m\u001b[0m\u001b[0m\n",
            "\u001b[0;32m/usr/local/lib/python3.7/dist-packages/urllib3/connection.py\u001b[0m in \u001b[0;36mconnect\u001b[0;34m(self)\u001b[0m\n\u001b[1;32m    342\u001b[0m             \u001b[0mca_cert_dir\u001b[0m\u001b[0;34m=\u001b[0m\u001b[0mself\u001b[0m\u001b[0;34m.\u001b[0m\u001b[0mca_cert_dir\u001b[0m\u001b[0;34m,\u001b[0m\u001b[0;34m\u001b[0m\u001b[0;34m\u001b[0m\u001b[0m\n\u001b[1;32m    343\u001b[0m             \u001b[0mserver_hostname\u001b[0m\u001b[0;34m=\u001b[0m\u001b[0mserver_hostname\u001b[0m\u001b[0;34m,\u001b[0m\u001b[0;34m\u001b[0m\u001b[0;34m\u001b[0m\u001b[0m\n\u001b[0;32m--> 344\u001b[0;31m             ssl_context=context)\n\u001b[0m\u001b[1;32m    345\u001b[0m \u001b[0;34m\u001b[0m\u001b[0m\n\u001b[1;32m    346\u001b[0m         \u001b[0;32mif\u001b[0m \u001b[0mself\u001b[0m\u001b[0;34m.\u001b[0m\u001b[0massert_fingerprint\u001b[0m\u001b[0;34m:\u001b[0m\u001b[0;34m\u001b[0m\u001b[0;34m\u001b[0m\u001b[0m\n",
            "\u001b[0;32m/usr/local/lib/python3.7/dist-packages/urllib3/util/ssl_.py\u001b[0m in \u001b[0;36mssl_wrap_socket\u001b[0;34m(sock, keyfile, certfile, cert_reqs, ca_certs, server_hostname, ssl_version, ciphers, ssl_context, ca_cert_dir)\u001b[0m\n\u001b[1;32m    343\u001b[0m             or IS_SECURETRANSPORT):\n\u001b[1;32m    344\u001b[0m         \u001b[0;32mif\u001b[0m \u001b[0mHAS_SNI\u001b[0m \u001b[0;32mand\u001b[0m \u001b[0mserver_hostname\u001b[0m \u001b[0;32mis\u001b[0m \u001b[0;32mnot\u001b[0m \u001b[0;32mNone\u001b[0m\u001b[0;34m:\u001b[0m\u001b[0;34m\u001b[0m\u001b[0;34m\u001b[0m\u001b[0m\n\u001b[0;32m--> 345\u001b[0;31m             \u001b[0;32mreturn\u001b[0m \u001b[0mcontext\u001b[0m\u001b[0;34m.\u001b[0m\u001b[0mwrap_socket\u001b[0m\u001b[0;34m(\u001b[0m\u001b[0msock\u001b[0m\u001b[0;34m,\u001b[0m \u001b[0mserver_hostname\u001b[0m\u001b[0;34m=\u001b[0m\u001b[0mserver_hostname\u001b[0m\u001b[0;34m)\u001b[0m\u001b[0;34m\u001b[0m\u001b[0;34m\u001b[0m\u001b[0m\n\u001b[0m\u001b[1;32m    346\u001b[0m \u001b[0;34m\u001b[0m\u001b[0m\n\u001b[1;32m    347\u001b[0m         warnings.warn(\n",
            "\u001b[0;32m/usr/lib/python3.7/ssl.py\u001b[0m in \u001b[0;36mwrap_socket\u001b[0;34m(self, sock, server_side, do_handshake_on_connect, suppress_ragged_eofs, server_hostname, session)\u001b[0m\n\u001b[1;32m    421\u001b[0m             \u001b[0mserver_hostname\u001b[0m\u001b[0;34m=\u001b[0m\u001b[0mserver_hostname\u001b[0m\u001b[0;34m,\u001b[0m\u001b[0;34m\u001b[0m\u001b[0;34m\u001b[0m\u001b[0m\n\u001b[1;32m    422\u001b[0m             \u001b[0mcontext\u001b[0m\u001b[0;34m=\u001b[0m\u001b[0mself\u001b[0m\u001b[0;34m,\u001b[0m\u001b[0;34m\u001b[0m\u001b[0;34m\u001b[0m\u001b[0m\n\u001b[0;32m--> 423\u001b[0;31m             \u001b[0msession\u001b[0m\u001b[0;34m=\u001b[0m\u001b[0msession\u001b[0m\u001b[0;34m\u001b[0m\u001b[0;34m\u001b[0m\u001b[0m\n\u001b[0m\u001b[1;32m    424\u001b[0m         )\n\u001b[1;32m    425\u001b[0m \u001b[0;34m\u001b[0m\u001b[0m\n",
            "\u001b[0;32m/usr/lib/python3.7/ssl.py\u001b[0m in \u001b[0;36m_create\u001b[0;34m(cls, sock, server_side, do_handshake_on_connect, suppress_ragged_eofs, server_hostname, context, session)\u001b[0m\n\u001b[1;32m    868\u001b[0m                         \u001b[0;31m# non-blocking\u001b[0m\u001b[0;34m\u001b[0m\u001b[0;34m\u001b[0m\u001b[0;34m\u001b[0m\u001b[0m\n\u001b[1;32m    869\u001b[0m                         \u001b[0;32mraise\u001b[0m \u001b[0mValueError\u001b[0m\u001b[0;34m(\u001b[0m\u001b[0;34m\"do_handshake_on_connect should not be specified for non-blocking sockets\"\u001b[0m\u001b[0;34m)\u001b[0m\u001b[0;34m\u001b[0m\u001b[0;34m\u001b[0m\u001b[0m\n\u001b[0;32m--> 870\u001b[0;31m                     \u001b[0mself\u001b[0m\u001b[0;34m.\u001b[0m\u001b[0mdo_handshake\u001b[0m\u001b[0;34m(\u001b[0m\u001b[0;34m)\u001b[0m\u001b[0;34m\u001b[0m\u001b[0;34m\u001b[0m\u001b[0m\n\u001b[0m\u001b[1;32m    871\u001b[0m             \u001b[0;32mexcept\u001b[0m \u001b[0;34m(\u001b[0m\u001b[0mOSError\u001b[0m\u001b[0;34m,\u001b[0m \u001b[0mValueError\u001b[0m\u001b[0;34m)\u001b[0m\u001b[0;34m:\u001b[0m\u001b[0;34m\u001b[0m\u001b[0;34m\u001b[0m\u001b[0m\n\u001b[1;32m    872\u001b[0m                 \u001b[0mself\u001b[0m\u001b[0;34m.\u001b[0m\u001b[0mclose\u001b[0m\u001b[0;34m(\u001b[0m\u001b[0;34m)\u001b[0m\u001b[0;34m\u001b[0m\u001b[0;34m\u001b[0m\u001b[0m\n",
            "\u001b[0;32m/usr/lib/python3.7/ssl.py\u001b[0m in \u001b[0;36mdo_handshake\u001b[0;34m(self, block)\u001b[0m\n\u001b[1;32m   1137\u001b[0m             \u001b[0;32mif\u001b[0m \u001b[0mtimeout\u001b[0m \u001b[0;34m==\u001b[0m \u001b[0;36m0.0\u001b[0m \u001b[0;32mand\u001b[0m \u001b[0mblock\u001b[0m\u001b[0;34m:\u001b[0m\u001b[0;34m\u001b[0m\u001b[0;34m\u001b[0m\u001b[0m\n\u001b[1;32m   1138\u001b[0m                 \u001b[0mself\u001b[0m\u001b[0;34m.\u001b[0m\u001b[0msettimeout\u001b[0m\u001b[0;34m(\u001b[0m\u001b[0;32mNone\u001b[0m\u001b[0;34m)\u001b[0m\u001b[0;34m\u001b[0m\u001b[0;34m\u001b[0m\u001b[0m\n\u001b[0;32m-> 1139\u001b[0;31m             \u001b[0mself\u001b[0m\u001b[0;34m.\u001b[0m\u001b[0m_sslobj\u001b[0m\u001b[0;34m.\u001b[0m\u001b[0mdo_handshake\u001b[0m\u001b[0;34m(\u001b[0m\u001b[0;34m)\u001b[0m\u001b[0;34m\u001b[0m\u001b[0;34m\u001b[0m\u001b[0m\n\u001b[0m\u001b[1;32m   1140\u001b[0m         \u001b[0;32mfinally\u001b[0m\u001b[0;34m:\u001b[0m\u001b[0;34m\u001b[0m\u001b[0;34m\u001b[0m\u001b[0m\n\u001b[1;32m   1141\u001b[0m             \u001b[0mself\u001b[0m\u001b[0;34m.\u001b[0m\u001b[0msettimeout\u001b[0m\u001b[0;34m(\u001b[0m\u001b[0mtimeout\u001b[0m\u001b[0;34m)\u001b[0m\u001b[0;34m\u001b[0m\u001b[0;34m\u001b[0m\u001b[0m\n",
            "\u001b[0;31mKeyboardInterrupt\u001b[0m: "
          ]
        }
      ]
    },
    {
      "cell_type": "code",
      "metadata": {
        "id": "IWDbKtE0PlCa"
      },
      "source": [
        "pub_citation_list = []\n",
        "for pub in results_list:\n",
        "    pub_citation_list.append((pub['Title']['Title'][0], '; '.join(pub['Author']['Authors']), pub['Source']['Published.BiblioYear'][0]))"
      ],
      "execution_count": null,
      "outputs": []
    },
    {
      "cell_type": "code",
      "metadata": {
        "id": "2gcqdOBtr8yl"
      },
      "source": [
        "pub_citation_headers = ('Title', 'Author(s)', 'Year')\n",
        "pub_citation_list.insert(0,pub_citation_headers)\n",
        "filename = 'Missed Authors from Google.csv'\n",
        "with open(filename, 'w', newline='', encoding='utf-8-sig') as csvfile:\n",
        "  writer = csv.writer(csvfile)\n",
        "  writer.writerows(pub_citation_list)"
      ],
      "execution_count": null,
      "outputs": []
    }
  ]
}