{
  "cells": [
    {
      "cell_type": "markdown",
      "metadata": {
        "colab_type": "text",
        "id": "view-in-github"
      },
      "source": [
        "<a href=\"https://colab.research.google.com/github/IBS-Wos-Search/Auto-script/blob/main/Clarivate_WoS.ipynb\" target=\"_parent\"><img src=\"https://colab.research.google.com/assets/colab-badge.svg\" alt=\"Open In Colab\"/></a>"
      ]
    },
    {
      "cell_type": "code",
      "execution_count": 8,
      "metadata": {
        "colab": {
          "base_uri": "https://localhost:8080/"
        },
        "id": "Qhxf-ahmkcpb",
        "outputId": "22e51370-7870-4bb2-8b0d-f6e50ec271a3"
      },
      "outputs": [
        {
          "name": "stdout",
          "output_type": "stream",
          "text": [
            "Requirement already satisfied: rispy in /Users/vrajpatel/opt/anaconda3/lib/python3.9/site-packages (0.7.1)\n",
            "Note: you may need to restart the kernel to use updated packages.\n"
          ]
        }
      ],
      "source": [
        "%pip install rispy"
      ]
    },
    {
      "cell_type": "code",
      "execution_count": 9,
      "metadata": {
        "id": "jklGXQ9kc5WG"
      },
      "outputs": [],
      "source": [
        "import requests\n",
        "import json\n",
        "import time\n",
        "import re\n",
        "import csv\n",
        "import rispy"
      ]
    },
    {
      "cell_type": "markdown",
      "metadata": {
        "id": "ALd9zl73FTc3"
      },
      "source": [
        "Get the author list"
      ]
    },
    {
      "cell_type": "code",
      "execution_count": 10,
      "metadata": {
        "colab": {
          "base_uri": "https://localhost:8080/"
        },
        "id": "eMDCSYLxTvNl",
        "outputId": "ebd3fe78-5e92-4d54-d065-5f69d95147ca"
      },
      "outputs": [
        {
          "name": "stdout",
          "output_type": "stream",
          "text": [
            "First record: Andersson, Krister\n",
            "Last record: Yeatman, Sara\n"
          ]
        }
      ],
      "source": [
        "authors_url = 'https://gist.githubusercontent.com/ibshelp/1c078ff8692574ba0e5665b7372c973f/raw/c4d04643b246a0802003bde1e22f5df5679c6de8/IBS%2520Researchers'\n",
        "\n",
        "author_list = requests.get(authors_url).text.split('\\n')\n",
        "print(f'First record: {author_list[0]}\\nLast record: {author_list[-1]}')"
      ]
    },
    {
      "cell_type": "markdown",
      "metadata": {
        "id": "y_WnKwD1Lwhr"
      },
      "source": [
        "Go get the API definition"
      ]
    },
    {
      "cell_type": "code",
      "execution_count": 11,
      "metadata": {
        "id": "Ilyh1W1pdCJg"
      },
      "outputs": [],
      "source": [
        "base_url = 'https://wos-api.clarivate.com/api/woslite'\n",
        "#base_url = 'https://wos-api.clarivate.com/api/wos'\n",
        "api_key = '98c6817fc891c194dce9ed0170cddf259d092a87'\n",
        "api_user = 'b681ff0ecd9c154da0dc8e22f9cae39d6ffb4409'\n",
        "\n",
        "result = requests.get(f'{base_url}/swagger?forUser={api_user}').json()\n",
        "\n",
        "with open('swagger_def.txt', 'w') as file:\n",
        "    file.write(json.dumps(result, indent=2))"
      ]
    },
    {
      "cell_type": "markdown",
      "metadata": {
        "id": "maIRfzjYNAlG"
      },
      "source": [
        "Do a search using the specification on line 18 in the WOSLite database and dump \n",
        "the results to test.txt for debugging."
      ]
    },
    {
      "cell_type": "code",
      "execution_count": 12,
      "metadata": {
        "colab": {
          "base_uri": "https://localhost:8080/"
        },
        "id": "dayJWOVZZKo5",
        "outputId": "a2d22cec-9c7f-474d-8cf3-8adbd8465efd"
      },
      "outputs": [
        {
          "name": "stdout",
          "output_type": "stream",
          "text": [
            "Found 33323 result(s)\n"
          ]
        }
      ],
      "source": [
        "# Andy Baker\n",
        "# symbolicTimeSpan= '1week', '2week', '4week'\n",
        "# TimeSpan\n",
        "\n",
        "headers = {\n",
        "    \"X-ApiKey\": api_key\n",
        "}\n",
        "\n",
        "query = {\n",
        "    \"databaseId\": \"WOS\",\n",
        "    \"count\": 100,\n",
        "    \"firstRecord\": 1,\n",
        "    \"usrQuery\": \"\",\n",
        "    \"sortField\": \"\",\n",
        "    \"symbolicTimeSpan\": \"\"\n",
        "}\n",
        "\n",
        "query['usrQuery'] = 'TS=((\"latin america\" OR \"Brazil\" OR \"Mexico\" OR \"Chile\" OR \"Argentina\" OR \"Uruguay\" OR \"Peru\" OR \"Colombia\" OR \"Bolivia\") AND (“labor” OR “labour” OR \"welfare\" OR \"social policy\" OR \"government expenditure*\" OR \"health policy\" OR \"anti-poverty\" OR \"antipoverty\" OR \"transfer*\" OR \"health sector\" OR \"pension*\") NOT (\"mental health\")) AND LA=(\"English\" OR \"Portuguese\" OR \"Spanish\")'\n",
        "query['symbolicTimeSpan'] = '4week'\n",
        "\n",
        "result = requests.get(f'{base_url}/', headers=headers, params=query).json()\n",
        "\n",
        "print(f\"Found {result['QueryResult']['RecordsFound']} result(s)\")\n",
        "\n",
        "with open('test.txt', 'w') as file:\n",
        "    file.write(json.dumps(result, indent=2))"
      ]
    },
    {
      "cell_type": "markdown",
      "metadata": {
        "id": "LRAwuad1NJ1E"
      },
      "source": [
        "Convert the result to RIS format for output and write to test.ris"
      ]
    },
    {
      "cell_type": "code",
      "execution_count": 13,
      "metadata": {
        "id": "KuCcQHjwkpSu"
      },
      "outputs": [],
      "source": [
        "# https://github.com/MrTango/rispy\n",
        "\n",
        "entries = []\n",
        "for record in result['Data']:\n",
        "    cleaned_record = {\n",
        "        'primary_title': record.get('Title', {}).get('Title')[0],\n",
        "        'authors': record.get('Author', {}).get('Authors'),\n",
        "        'publication_year': record.get('Source', {}).get('Published.BiblioYear')[0],\n",
        "        'keywords': record.get('Keyword', {}).get('Keywords', []),\n",
        "        'accession_number': record.get('UT'),\n",
        "        'secondary_title': record.get('Source', {}).get('SourceTitle')[0],\n",
        "    }\n",
        "\n",
        "    reference_type = record.get('Doctype', {}).get('Doctype')[0]\n",
        "    if reference_type == \"Article\":\n",
        "        cleaned_record['type_of_reference'] = \"EJOUR\"\n",
        "    else:\n",
        "        ris_type = [k for k, v in rispy.TYPE_OF_REFERENCE_MAPPING.items() if v == reference_type]\n",
        "        if ris_type == []:\n",
        "            cleaned_record['type_of_reference'] = \"GEN\"\n",
        "        else:\n",
        "            cleaned_record['type_of_reference'] = ris_type[0]\n",
        "\n",
        "\n",
        "    doi = record.get('Other', {}).get('Identifier.Doi')\n",
        "    if doi:\n",
        "        cleaned_record['doi'] = doi[0]\n",
        "\n",
        "    issn = record.get('Other', {}).get('Identifier.Issn')\n",
        "    if issn:\n",
        "        cleaned_record['issn'] = issn[0]\n",
        "\n",
        "    pages = record.get('Source', {}).get('Pages')\n",
        "    if pages and pages[0] != \"\":\n",
        "        cleaned_record['start_page'] = pages[0].split('-')[0]\n",
        "        cleaned_record['end_page'] = pages[-1].split('-')[-1]\n",
        "    \n",
        "    issue_number = record.get('Source', {}).get('Issue')\n",
        "    if issue_number:\n",
        "        cleaned_record['number'] = issue_number[0]\n",
        "\n",
        "    volume = record.get('Source', {}).get('Volume')\n",
        "    if volume:\n",
        "        cleaned_record['volume'] = volume[0]\n",
        "    \n",
        "    date = record.get('Source', {}).get('Published.BiblioDate')\n",
        "    if date and '-' not in date[0]:\n",
        "        months = {\n",
        "            'JAN': '01',\n",
        "            'FEB': '02',\n",
        "            'MAR': '03',\n",
        "            'APR': '04',\n",
        "            'MAY': '05',\n",
        "            'JUN': '06',\n",
        "            'JUL': '07',\n",
        "            'AUG': '08',\n",
        "            'SEP': '09',\n",
        "            'OCT': '10',\n",
        "            'NOV': '11',\n",
        "            'DEC': '12'\n",
        "        }\n",
        "        year = cleaned_record.get('publication_year')\n",
        "        date_field = date[0].split(' ')\n",
        "        month = months.get(date_field[0].upper(), \"\")\n",
        "        day = \"\" if len(date_field) == 1 else date_field[1]\n",
        "        date_string = f\"{year}/{month}/{day}/undefined\"\n",
        "        \n",
        "        cleaned_record['date'] = date_string\n",
        "\n",
        "    entries.append(cleaned_record)\n",
        "\n",
        "with open('test.ris', 'w') as file:\n",
        "    rispy.dump(entries, file)"
      ]
    }
  ],
  "metadata": {
    "colab": {
      "include_colab_link": true,
      "provenance": []
    },
    "kernelspec": {
      "display_name": "Python 3",
      "name": "python3"
    },
    "language_info": {
      "codemirror_mode": {
        "name": "ipython",
        "version": 3
      },
      "file_extension": ".py",
      "mimetype": "text/x-python",
      "name": "python",
      "nbconvert_exporter": "python",
      "pygments_lexer": "ipython3",
      "version": "3.9.12"
    }
  },
  "nbformat": 4,
  "nbformat_minor": 0
}
